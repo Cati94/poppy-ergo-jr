{
 "cells": [
  {
   "cell_type": "markdown",
   "metadata": {},
   "source": [
    "# Discover your Poppy Ergo Jr"
   ]
  },
  {
   "cell_type": "markdown",
   "metadata": {},
   "source": [
    "This notebook will guide you in your very first steps with Poppy Ergo Jr in Python. \n",
    "\n",
    "What you will see in this notebook:\n",
    "\n",
    "1. Instantiate your robot\n",
    "2. Access motors, send motor commands\n",
    "3. Read sensor value\n",
    "4. Start high level behaviors"
   ]
  },
  {
   "cell_type": "markdown",
   "metadata": {},
   "source": [
    "![Poppy Ergo Jr](http://docs.poppy-project.org/en/assembly-guides/ergo-jr/img/ergo_tools.gif)"
   ]
  },
  {
   "cell_type": "markdown",
   "metadata": {},
   "source": [
    "*We assume here that you are connected to a real Poppy Ergo Jr that you have assembled and configured (you can referer to the [documentation](http://docs.poppy-project.org) if you haven't done in yet). You can use any tool. For the sensor section, you need to have connected the camera. In a notebook, click a cell and press ▶⏸ (or Shift+Enter) to execute it.*"
   ]
  },
  {
   "cell_type": "code",
   "execution_count": null,
   "metadata": {
    "collapsed": false
   },
   "outputs": [],
   "source": [
    "%matplotlib inline\n",
    "import numpy as np\n",
    "import matplotlib.pyplot as plt"
   ]
  },
  {
   "cell_type": "markdown",
   "metadata": {},
   "source": [
    "## Instantiate your robot"
   ]
  },
  {
   "cell_type": "markdown",
   "metadata": {},
   "source": [
    "To start using your robot in Python, you first need to instantiate it. You can do that by running the following code:"
   ]
  },
  {
   "cell_type": "code",
   "execution_count": null,
   "metadata": {
    "collapsed": false
   },
   "outputs": [],
   "source": [
    "from pypot.creatures import PoppyErgoJr\n",
    "\n",
    "poppy = PoppyErgoJr()\n",
    "\n",
    "# If you want to use the robot with the camera unplugged, \n",
    "# you have to pass the parameter camera='dummy'\n",
    "# poppy = PoppyErgoJr(camera='dummy')\n",
    "\n",
    "# If you want to use a simulated robot in the 3D web viewer aka \"poppy simu\"\n",
    "# poppy = PoppyErgoJr(simulator='poppy-simu')\n",
    "# then go to http://simu.poppy-project.org/poppy-ergo-jr/ and check \"synchroniser\"\n",
    "\n",
    "# If you want to use the robot with the CoppeliaSim simulator, open the simulator and execute:\n",
    "# poppy = PoppyErgoJr(simulator='vrep')\n",
    "# You can also change the end effector tools if you precise the V-REP scene\n",
    "# poppy = PoppyErgoJr(simulator='vrep', scene=\"poppy_ergo_jr_holder.ttt\")\n",
    "# poppy = PoppyErgoJr(simulator='vrep', scene=\"poppy_ergo_jr_empty.ttt\")\n",
    "\n"
   ]
  },
  {
   "cell_type": "markdown",
   "metadata": {},
   "source": [
    "This creates a [Robot](http://poppy-project.github.io/pypot/pypot.robot.html#pypot.robot.robot.Robot) object that can be used to access the motors and sensors by . The *motors* and *sensors* fields of the Robot then reflect the actual robot state."
   ]
  },
  {
   "cell_type": "markdown",
   "metadata": {},
   "source": [
    "Before doing anything else, we will move the robot to its rest position:"
   ]
  },
  {
   "cell_type": "code",
   "execution_count": null,
   "metadata": {
    "collapsed": true
   },
   "outputs": [],
   "source": [
    "poppy.rest_posture.start()"
   ]
  },
  {
   "cell_type": "markdown",
   "metadata": {},
   "source": [
    "## Access motors"
   ]
  },
  {
   "cell_type": "markdown",
   "metadata": {},
   "source": [
    "In a Poppy Ergo Jr robot, the motors are named as illustrated below:\n",
    "\n",
    "<img src=\"http://docs.poppy-project.org/en/assembly-guides/ergo-jr/img/assembly/motors.png\" alt=\"Motors list\" height=\"200\">"
   ]
  },
  {
   "cell_type": "markdown",
   "metadata": {},
   "source": [
    "From the [Robot](http://poppy-project.github.io/pypot/pypot.robot.html#pypot.robot.robot.Robot) object, you can directly retrieve the list of motors connected:"
   ]
  },
  {
   "cell_type": "code",
   "execution_count": null,
   "metadata": {
    "collapsed": false
   },
   "outputs": [],
   "source": [
    "poppy.motors"
   ]
  },
  {
   "cell_type": "markdown",
   "metadata": {},
   "source": [
    "As you can see *poppy.motors* holds a list of all motors."
   ]
  },
  {
   "cell_type": "markdown",
   "metadata": {},
   "source": [
    "You can retrieve all motors name:"
   ]
  },
  {
   "cell_type": "code",
   "execution_count": null,
   "metadata": {
    "collapsed": false
   },
   "outputs": [],
   "source": [
    "for m in poppy.motors:\n",
    "    print(m.name)"
   ]
  },
  {
   "cell_type": "markdown",
   "metadata": {},
   "source": [
    " Each of them can be accessed directly from its name. For instance:"
   ]
  },
  {
   "cell_type": "code",
   "execution_count": null,
   "metadata": {
    "collapsed": false
   },
   "outputs": [],
   "source": [
    "poppy.m1"
   ]
  },
  {
   "cell_type": "markdown",
   "metadata": {},
   "source": [
    "### Read values from the motors"
   ]
  },
  {
   "cell_type": "markdown",
   "metadata": {},
   "source": [
    "From the motor object you can access its registers. The main ones are:\n",
    "\n",
    "* **present_position**: the current angle of the motor (in degrees)\n",
    "* **present_speed**: the current speed of the motor (in degrees per second)\n",
    "* **present_load**: the current workload of the motor (in percentage of max load)\n",
    "* **present_temperature**: the current temperature of the motor (in celsius degrees)\n",
    "* **angle_limit**: the reachable limits of the motor (in degrees)\n",
    "\n",
    "They can be consulted directly:"
   ]
  },
  {
   "cell_type": "code",
   "execution_count": null,
   "metadata": {
    "collapsed": false
   },
   "outputs": [],
   "source": [
    "poppy.m1.present_temperature"
   ]
  },
  {
   "cell_type": "markdown",
   "metadata": {},
   "source": [
    "Or, to get the present position for all motors:"
   ]
  },
  {
   "cell_type": "code",
   "execution_count": null,
   "metadata": {
    "collapsed": false
   },
   "outputs": [],
   "source": [
    "[m.present_position for m in poppy.motors]"
   ]
  },
  {
   "cell_type": "markdown",
   "metadata": {},
   "source": [
    "It is important to notice that these fields, such as the *poppy.m1.present_position*, are automatically updated as the real robot moves."
   ]
  },
  {
   "cell_type": "markdown",
   "metadata": {},
   "source": [
    "### Send motor commands"
   ]
  },
  {
   "cell_type": "markdown",
   "metadata": {},
   "source": [
    "Additionally to the registers presented hereabove, there are other ones used to send commands. For instance, the angular position of a motor is split in two different registers: \n",
    "\n",
    "* the read-only **present_position** of the motor\n",
    "* the read-write **goal_position** which sends to the motor a target position that it will try to reach.\n",
    "\n",
    "If you want to set a new position for a motor, you can write:"
   ]
  },
  {
   "cell_type": "code",
   "execution_count": null,
   "metadata": {
    "collapsed": true
   },
   "outputs": [],
   "source": [
    "poppy.m1.goal_position = 20"
   ]
  },
  {
   "cell_type": "markdown",
   "metadata": {},
   "source": [
    "You should see the first motor going to a 20 degrees angle. Sending motor commands is as simple as that. Then, to make it turn backwards:"
   ]
  },
  {
   "cell_type": "code",
   "execution_count": null,
   "metadata": {
    "collapsed": true
   },
   "outputs": [],
   "source": [
    "poppy.m1.goal_position = -20"
   ]
  },
  {
   "cell_type": "markdown",
   "metadata": {},
   "source": [
    "In the examples above, the motor turned as fast as possible (this is its default mode). You can change its *moving_speed* (i.e. its maximum possible speed) this way:"
   ]
  },
  {
   "cell_type": "code",
   "execution_count": null,
   "metadata": {
    "collapsed": true
   },
   "outputs": [],
   "source": [
    "poppy.m1.moving_speed = 50"
   ]
  },
  {
   "cell_type": "markdown",
   "metadata": {},
   "source": [
    "Now the motor *m1* can not move faster than 50 degrees per second. If we ask to move again, you should see the difference:"
   ]
  },
  {
   "cell_type": "code",
   "execution_count": null,
   "metadata": {
    "collapsed": true
   },
   "outputs": [],
   "source": [
    "poppy.m1.goal_position = 90"
   ]
  },
  {
   "cell_type": "markdown",
   "metadata": {},
   "source": [
    "The main write registers are:\n",
    "\n",
    "* **goal_position**: target position in degrees\n",
    "* **moving_speed**: maximum reachable speed in degrees per second\n",
    "* **compliant** (explained below) "
   ]
  },
  {
   "cell_type": "markdown",
   "metadata": {},
   "source": [
    "The dynamixel servo motors have two modes:\n",
    "\n",
    "* **stiff**: the normal mode for motors in which they are driven by the software\n",
    "* **compliant**: a mode where the motors can be freely moved by hand.\n",
    "\n",
    "You can switch from one mode to the other using the *compliant* register. For instance, you can turn the motor *m6* compliant via:"
   ]
  },
  {
   "cell_type": "code",
   "execution_count": null,
   "metadata": {
    "collapsed": true
   },
   "outputs": [],
   "source": [
    "poppy.m6.compliant = True"
   ]
  },
  {
   "cell_type": "markdown",
   "metadata": {},
   "source": [
    "You should now be able to move this motor by hand. This is particularly useful for programming your robot by demonstration (see the dedicated notebook)."
   ]
  },
  {
   "cell_type": "markdown",
   "metadata": {},
   "source": [
    " And to turn it stiff again:"
   ]
  },
  {
   "cell_type": "code",
   "execution_count": null,
   "metadata": {
    "collapsed": true
   },
   "outputs": [],
   "source": [
    "poppy.m6.compliant = False"
   ]
  },
  {
   "cell_type": "markdown",
   "metadata": {},
   "source": [
    "### Control the motor's LED"
   ]
  },
  {
   "cell_type": "markdown",
   "metadata": {},
   "source": [
    "The XL-320 motors of the Poppy Ergo Jr robot have a small colored LED. You can change its color programatically from Python. This is a great way to make your robot more customized and expressive.\n",
    "\n",
    "If you want to turn on the LED of the first motor and make it green you simply have to run:"
   ]
  },
  {
   "cell_type": "code",
   "execution_count": null,
   "metadata": {
    "collapsed": true
   },
   "outputs": [],
   "source": [
    "poppy.m1.led = 'green'"
   ]
  },
  {
   "cell_type": "markdown",
   "metadata": {},
   "source": [
    "And to turn it off again:"
   ]
  },
  {
   "cell_type": "code",
   "execution_count": null,
   "metadata": {
    "collapsed": true
   },
   "outputs": [],
   "source": [
    "poppy.m1.led = 'off'"
   ]
  },
  {
   "cell_type": "markdown",
   "metadata": {},
   "source": [
    "Obviously you can also do some more complex LED blinking. For instance:"
   ]
  },
  {
   "cell_type": "code",
   "execution_count": null,
   "metadata": {
    "collapsed": true
   },
   "outputs": [],
   "source": [
    "import time\n",
    "\n",
    "for m in poppy.motors:\n",
    "    time.sleep(0.5)\n",
    "    m.led = 'yellow'\n",
    "    time.sleep(1.0)\n",
    "    m.led = 'off'"
   ]
  },
  {
   "cell_type": "markdown",
   "metadata": {},
   "source": [
    "You can retrieve all available LED colors using:"
   ]
  },
  {
   "cell_type": "code",
   "execution_count": null,
   "metadata": {
    "collapsed": true
   },
   "outputs": [],
   "source": [
    "from pypot.dynamixel.conversion import XL320LEDColors\n",
    "\n",
    "print(list(XL320LEDColors))"
   ]
  },
  {
   "cell_type": "markdown",
   "metadata": {},
   "source": [
    "## Read sensors"
   ]
  },
  {
   "cell_type": "markdown",
   "metadata": {},
   "source": [
    "Reading sensors is exactly the same as reading registers from your robot. The sensors can be accessed via:"
   ]
  },
  {
   "cell_type": "code",
   "execution_count": null,
   "metadata": {
    "collapsed": false
   },
   "outputs": [],
   "source": [
    "poppy.sensors"
   ]
  },
  {
   "cell_type": "markdown",
   "metadata": {},
   "source": [
    "Here, we have 2 sensors:\n",
    "* a camera\n",
    "* a marker detector\n",
    "\n",
    "They can be accessed via their name:"
   ]
  },
  {
   "cell_type": "code",
   "execution_count": null,
   "metadata": {
    "collapsed": false
   },
   "outputs": [],
   "source": [
    "poppy.camera"
   ]
  },
  {
   "cell_type": "markdown",
   "metadata": {},
   "source": [
    "You can retrieve all the existing registers of a sensor:"
   ]
  },
  {
   "cell_type": "code",
   "execution_count": null,
   "metadata": {
    "collapsed": false
   },
   "outputs": [],
   "source": [
    "poppy.camera.registers"
   ]
  },
  {
   "cell_type": "markdown",
   "metadata": {},
   "source": [
    "For instance, use this code to retrieve and display an image from the camera:"
   ]
  },
  {
   "cell_type": "code",
   "execution_count": null,
   "metadata": {
    "collapsed": false
   },
   "outputs": [],
   "source": [
    "img = poppy.camera.frame\n",
    "plt.imshow(img)"
   ]
  },
  {
   "cell_type": "markdown",
   "metadata": {},
   "source": [
    "Similarly to motors, the sensor values are automatically synchronized in background with the real sensors. If you run again the previous code, you will see a more recent image:"
   ]
  },
  {
   "cell_type": "code",
   "execution_count": null,
   "metadata": {
    "collapsed": true
   },
   "outputs": [],
   "source": [
    "plt.imshow(poppy.camera.frame)"
   ]
  },
  {
   "cell_type": "markdown",
   "metadata": {},
   "source": [
    "## High level behaviors"
   ]
  },
  {
   "cell_type": "markdown",
   "metadata": {},
   "source": [
    "The Poppy Ergo Jr robot comes with a set of pre-defined behaviors. They can be static postures - such as the rest posture used at the beginning - or motions, like a dance"
   ]
  },
  {
   "cell_type": "markdown",
   "metadata": {},
   "source": [
    "You can find the exhaustive list using the *primitives* field:"
   ]
  },
  {
   "cell_type": "code",
   "execution_count": null,
   "metadata": {
    "collapsed": false
   },
   "outputs": [],
   "source": [
    "[p.name for p in poppy.primitives]"
   ]
  },
  {
   "cell_type": "markdown",
   "metadata": {},
   "source": [
    "Those behaviors (named \"primitives\") can be started, stopped and paused during runtime."
   ]
  },
  {
   "cell_type": "code",
   "execution_count": null,
   "metadata": {
    "collapsed": true
   },
   "outputs": [],
   "source": [
    "poppy.tetris_posture.start()"
   ]
  },
  {
   "cell_type": "markdown",
   "metadata": {},
   "source": [
    "You can make the Poppy Ergo Jr dance for 10 seconds:"
   ]
  },
  {
   "cell_type": "code",
   "execution_count": null,
   "metadata": {
    "collapsed": true
   },
   "outputs": [],
   "source": [
    "import time\n",
    "\n",
    "poppy.dance.start()\n",
    "time.sleep(10)\n",
    "poppy.dance.stop()"
   ]
  },
  {
   "cell_type": "markdown",
   "metadata": {},
   "source": [
    "## Going further\n",
    "\n",
    "Now that you have learnt the basis of what you can do with a Poppy Ergo Jr, there is much more to discover:\n",
    "* how to record/replay move by demonstration\n",
    "* how to define your own high-level behavior (e.g. a visual servoing of the tip of the robot using blob detection)\n",
    "* how to make Poppy Ergo Jr a connected device so that its communicates with the rest of the world using HTTP requests\n",
    "* ...\n",
    "\n",
    "You can find other examples in the [docs](http://docs.poppy-project.org) or in the notebook folder next to this one. This notebook is coming to an end. Select **File** > **Open** to open another example notebook."
   ]
  }
 ],
 "metadata": {
  "anaconda-cloud": {},
  "kernelspec": {
   "display_name": "Python [default]",
   "language": "python",
   "name": "python2"
  },
  "language_info": {
   "codemirror_mode": {
    "name": "ipython",
    "version": 2
   },
   "file_extension": ".py",
   "mimetype": "text/x-python",
   "name": "python",
   "nbconvert_exporter": "python",
   "pygments_lexer": "ipython2",
   "version": "2.7.12"
  }
 },
 "nbformat": 4,
 "nbformat_minor": 0
}
